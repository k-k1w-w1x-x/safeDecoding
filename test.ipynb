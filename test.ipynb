{
 "cells": [
  {
   "cell_type": "code",
   "execution_count": 18,
   "id": "3b419f6d-1762-4c56-bb1c-4788655a752e",
   "metadata": {},
   "outputs": [
    {
     "name": "stdout",
     "output_type": "stream",
     "text": [
      "当前工作目录: /root/autodl-tmp/shallow-vs-deep-alignment\n"
     ]
    }
   ],
   "source": [
    "import os\n",
    "print(f\"当前工作目录: {os.getcwd()}\")\n"
   ]
  },
  {
   "cell_type": "code",
   "execution_count": 25,
   "id": "7f38f2c2-b710-4aa3-836f-9ccbf8b4a2c7",
   "metadata": {},
   "outputs": [
    {
     "name": "stdout",
     "output_type": "stream",
     "text": [
      "当前工作目录: /root/autodl-tmp/shallow-vs-deep-alignment\n",
      "目录 './finetuning_buckets/datasets/data/' 下的文件:\n",
      "\n",
      "目录 './finetuning_buckets/datasets/data/' 下的子文件夹:\n",
      " - .locks\n",
      " - .ipynb_checkpoints\n",
      " - safety_bench\n",
      " - tasks\n"
     ]
    }
   ],
   "source": [
    "import os\n",
    "print(f\"当前工作目录: {os.getcwd()}\")\n",
    "# 目标路径\n",
    "target_dir = './finetuning_buckets/datasets/data/'\n",
    "\n",
    "# 检查路径是否存在\n",
    "if os.path.exists(target_dir):\n",
    "    # 列出所有文件和文件夹\n",
    "    all_items = os.listdir(target_dir)\n",
    "    \n",
    "    # 分别列出文件和文件夹\n",
    "    files = [item for item in all_items if os.path.isfile(os.path.join(target_dir, item))]\n",
    "    folders = [item for item in all_items if os.path.isdir(os.path.join(target_dir, item))]\n",
    "    \n",
    "    # 输出结果\n",
    "    print(f\"目录 '{target_dir}' 下的文件:\")\n",
    "    for file in files:\n",
    "        print(f\" - {file}\")\n",
    "    \n",
    "    print(f\"\\n目录 '{target_dir}' 下的子文件夹:\")\n",
    "    for folder in folders:\n",
    "        print(f\" - {folder}\")\n",
    "else:\n",
    "    print(f\"路径 '{target_dir}' 不存在，请检查路径是否正确。\")\n"
   ]
  },
  {
   "cell_type": "code",
   "execution_count": null,
   "id": "39c3299c-4faf-4659-b236-7a02ae6a05b7",
   "metadata": {},
   "outputs": [],
   "source": []
  },
  {
   "cell_type": "code",
   "execution_count": null,
   "id": "8e0abf8d-bc68-4d61-8f23-e281c3b0f87f",
   "metadata": {},
   "outputs": [],
   "source": []
  }
 ],
 "metadata": {
  "kernelspec": {
   "display_name": "Python 3 (ipykernel)",
   "language": "python",
   "name": "python3"
  },
  "language_info": {
   "codemirror_mode": {
    "name": "ipython",
    "version": 3
   },
   "file_extension": ".py",
   "mimetype": "text/x-python",
   "name": "python",
   "nbconvert_exporter": "python",
   "pygments_lexer": "ipython3",
   "version": "3.12.3"
  }
 },
 "nbformat": 4,
 "nbformat_minor": 5
}
